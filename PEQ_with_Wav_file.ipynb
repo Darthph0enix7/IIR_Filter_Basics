{
 "cells": [
  {
   "cell_type": "code",
   "execution_count": 3,
   "metadata": {},
   "outputs": [],
   "source": [
    "import scipy.io.wavfile as wav\n",
    "import numpy as np\n",
    "\n",
    "# Function to convert stereo audio to mono\n",
    "def stereo_to_mono(audio_data):\n",
    "    return audio_data.mean(axis=1)\n",
    "\n",
    "# Function to apply a PEQ filter\n",
    "def apply_peq_filter(signal, fs, fc, fbw, g):\n",
    "    T = 1 / fs\n",
    "    wc = 2 * np.pi * fc\n",
    "    wbw = 2 * np.pi * fbw\n",
    "    wcd = (2 / T) * np.tan(wc * (T / 2))\n",
    "    Q = wcd / wbw\n",
    "\n",
    "    # Input coefficients\n",
    "    a0 = 4 + 2 * (g / Q) * wcd * T + (wcd * T) ** 2\n",
    "    a1 = 2 * (wcd * T) ** 2 - 8\n",
    "    a2 = 4 - 2 * (g / Q) * wcd * T + (wcd * T) ** 2\n",
    "\n",
    "    # Output coefficients\n",
    "    b0 = 4 + 2 * (1 / Q) * wcd * T + (wcd * T) ** 2\n",
    "    b1 = -(2 * (wcd * T) ** 2 - 8)\n",
    "    b2 = -(4 - 2 * (1 / Q) * wcd * T + (wcd * T) ** 2)\n",
    "\n",
    "    filtered_signal = np.zeros(len(signal))\n",
    "    for s in range(2, len(signal)):\n",
    "        filtered_signal[s] = (1 / b0) * ((a0 * signal[s] + a1 * signal[s - 1] + a2 * signal[s - 2]) + (b1 * filtered_signal[s - 1] + b2 * filtered_signal[s - 2]))\n",
    "\n",
    "    return filtered_signal\n",
    "\n",
    "# Read WAV file\n",
    "fs, data = wav.read(r'C:\\Users\\kalin\\Desktop\\IIR_Filter_Basics\\1.wav')\n",
    "\n",
    "# Convert to mono if stereo\n",
    "if data.ndim > 1:\n",
    "    data = stereo_to_mono(data)\n",
    "\n",
    "# Apply PEQ1 filter (Example settings)\n",
    "fc1 = 3500  # Hz\n",
    "fbw1 = 500  # Hz\n",
    "g1 = 100     # Gain\n",
    "peq1_filtered = apply_peq_filter(data, fs, fc1, fbw1, g1)\n",
    "\n",
    "# Apply PEQ2 filter (Example settings)\n",
    "fc2 = 100   # Hz\n",
    "fbw2 = 100   # Hz\n",
    "g2 = 0.1   # Gain\n",
    "peq2_filtered = apply_peq_filter(data, fs, fc2, fbw2, g2)\n",
    "\n",
    "# Write the processed audio back to new WAV files\n",
    "wav.write(r'C:\\Users\\kalin\\Desktop\\IIR_Filter_Basics\\output1.wav', fs, np.int16(peq1_filtered))\n",
    "wav.write(r'C:\\Users\\kalin\\Desktop\\IIR_Filter_Basics\\output2.wav', fs, np.int16(peq2_filtered))\n"
   ]
  }
 ],
 "metadata": {
  "kernelspec": {
   "display_name": "Python 3",
   "language": "python",
   "name": "python3"
  },
  "language_info": {
   "codemirror_mode": {
    "name": "ipython",
    "version": 3
   },
   "file_extension": ".py",
   "mimetype": "text/x-python",
   "name": "python",
   "nbconvert_exporter": "python",
   "pygments_lexer": "ipython3",
   "version": "3.11.6"
  }
 },
 "nbformat": 4,
 "nbformat_minor": 2
}
